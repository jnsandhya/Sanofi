{
 "cells": [
  {
   "cell_type": "markdown",
   "id": "68d01725-4d77-4b17-850e-9164664dda79",
   "metadata": {},
   "source": [
    "**To Make sure the code works, install these packages** \n",
    "- pip install beautifulsoup4\n",
    "- python -m pip install requests\n",
    "- pip install xlsxwriter\n",
    "- pip uninstall selenium\n",
    "- pip install selenium==4.9.0 { https://medium.com/@ayanchowdhury00/web-scrapping-on-firefox-browser-using-selenium-in-python-edcf678a1dea}\n",
    "- pip install transformers"
   ]
  },
  {
   "cell_type": "markdown",
   "id": "e3248fb0-a8f2-4040-9acc-a13e3b785428",
   "metadata": {},
   "source": [
    "*Importing needed modules*"
   ]
  },
  {
   "cell_type": "code",
   "execution_count": 1,
   "id": "8501e6df-4886-4c47-b865-d1abb78ca0b1",
   "metadata": {},
   "outputs": [],
   "source": [
    "import requests\n",
    "#import re\n",
    "from bs4 import BeautifulSoup as bs\n",
    "import time\n",
    "import selenium\n",
    "#print(selenium.__version__)\n",
    "from selenium import webdriver\n",
    "import xlsxwriter\n",
    "import pandas as pd\n",
    "from transformers import pipeline\n",
    "import os\n",
    "from selenium.webdriver.common.by import By\n",
    "from selenium.webdriver.support.ui import WebDriverWait\n",
    "from selenium.webdriver.support import expected_conditions as EC\n",
    "\n",
    "# setting environment variable to disable tokenizer parallelism\n",
    "os.environ[\"TOKENIZERS_PARALLELISM\"] = \"false\"\n",
    "\n"
   ]
  },
  {
   "cell_type": "code",
   "execution_count": 2,
   "id": "056c3614-5aae-49c0-9d9b-993cb310d694",
   "metadata": {},
   "outputs": [
    {
     "name": "stderr",
     "output_type": "stream",
     "text": [
      "/var/folders/48/ks0jnbtd2yd8b1nhh_z_t7340000gn/T/ipykernel_47074/2426025562.py:4: DeprecationWarning: firefox_profile has been deprecated, please use an Options object\n",
      "  fp = webdriver.FirefoxProfile()\n",
      "/var/folders/48/ks0jnbtd2yd8b1nhh_z_t7340000gn/T/ipykernel_47074/2426025562.py:6: DeprecationWarning: firefox_profile has been deprecated, please pass in an Options object\n",
      "  driver = webdriver.Firefox(firefox_profile=fp)\n"
     ]
    }
   ],
   "source": [
    "# using firefox driver to load the url and disable cookies! using depreciated selenium version for using firefox profile\n",
    "options=webdriver.FirefoxOptions()\n",
    "### to disable cookies \n",
    "fp = webdriver.FirefoxProfile()\n",
    "fp.set_preference(\"network.cookie.cookieBehavior\",2);\n",
    "driver = webdriver.Firefox(firefox_profile=fp)\n",
    "base_url = \"https://www.sanofi.com\"\n",
    "url = base_url+\"/en/media-room/press-releases\"\n",
    "driver.get(url)\n",
    "time.sleep(10) \n",
    "\n",
    "\n"
   ]
  },
  {
   "cell_type": "code",
   "execution_count": 3,
   "id": "dc10db49-e1b6-49ec-95b5-3ac00fbff486",
   "metadata": {},
   "outputs": [],
   "source": [
    "## defining function to keep abstract of maximum 512 words, which is used to summarize the abstract using bart-large-cnn model\n",
    "def truncate_by_words(text, max_words=512):\n",
    "    words = text.split()\n",
    "    return ' '.join(words[:max_words])\n",
    "    \n",
    "model_name=\"facebook/bart-large-cnn\"\n",
    "summarizer = pipeline(\"summarization\", model=model_name, tokenizer=model_name)"
   ]
  },
  {
   "cell_type": "code",
   "execution_count": 4,
   "id": "6690e40e-c74d-4dd0-b28a-100275c5c13c",
   "metadata": {},
   "outputs": [],
   "source": [
    "# defining lists to extract this info from the url\n",
    "Date = []\n",
    "Title = []\n",
    "URL = []\n",
    "PDF_URL = []\n",
    "Abstract = []\n",
    "Summaries = []"
   ]
  },
  {
   "cell_type": "code",
   "execution_count": 5,
   "id": "55006c39-aa6a-4aa7-ac0a-c2431e563ca1",
   "metadata": {},
   "outputs": [],
   "source": [
    "## this is the main function that does extracts all needed info for us!\n",
    "\n",
    "def find_page(path):\n",
    " try:\n",
    "    ## finiding if exists a next button on the current page \n",
    "    button = WebDriverWait(driver, 20).until(EC.presence_of_element_located((By.XPATH, path)))\n",
    "    #button = driver.find_element(By.XPATH, path)\n",
    " except:\n",
    "    print(\"page not found\")\n",
    "    return False\n",
    " else:\n",
    "    global i\n",
    "    print(\"page exists\", i)\n",
    "    soup=bs(driver.page_source) \n",
    "    body = soup.find_all('div', class_='MuiBox-root css-y36fim')\n",
    "    for article in body:\n",
    "        date = article.find('div', class_=\"MuiTypography-root MuiTypography-body2 css-1ufdk6m-MuiTypography-root\")\n",
    "        title = article.find('div', class_=\"MuiTypography-root MuiTypography-h3 css-1fchgxt-MuiTypography-root\")\n",
    "        link = article.find('a', class_=\"elements-ds-dgpxh5\")\n",
    "        print(date.get_text(),\"\\n\",title.get_text(),\"\\n\",base_url+link.get(\"href\"))\n",
    "        \n",
    "        Date.append(date.get_text())\n",
    "        Title.append(title.get_text())\n",
    "        URL.append(base_url+link.get(\"href\"))\n",
    "    \n",
    "        #### Getting details of news_article   \n",
    "         \n",
    "        detail_article = requests.get(base_url+link.get(\"href\"))  \n",
    "        detail_soup = bs(detail_article.content, 'html.parser')\n",
    "        pdflink = detail_soup.find('a', class_=\"elements-ds-twdzwl\").get(\"href\")\n",
    "        PDF_URL.append(base_url+pdflink)\n",
    "        abstract = detail_soup.find_all('div', class_=\"MuiGrid2-root MuiGrid2-direction-xs-row MuiGrid2-grid-mobile-4 MuiGrid2-grid-tablet-6 MuiGrid2-grid-desktop-8 css-1blu0l0-MuiGrid2-root\")\n",
    "        Abstract_detail = []\n",
    "        Summary = []\n",
    "        for detail in abstract:\n",
    "            #print(detail.get_text(),\"\\n\")\n",
    "            Abstract_detail.append(detail.get_text())\n",
    "            if len(detail.get_text())>250:  \n",
    "                try:\n",
    "                    # Truncate abstract to fit within a word limit\n",
    "                    truncated_abstract = truncate_by_words(detail.get_text(), max_words=500)\n",
    "                    # Generate the summary using summarizer pipeline\n",
    "                    summary = summarizer(truncated_abstract, max_length=100, min_length=25, do_sample=False)\n",
    "                    \n",
    "                    if summary and 'summary_text' in summary[0]:\n",
    "                        Summary.append(summary[0]['summary_text'])\n",
    "                    else:\n",
    "                        Summary.append(\"Summary not available\")\n",
    "                except Exception as e:\n",
    "                    Summary.append(f\"Error: {str(e)}\")\n",
    "            else:\n",
    "                Summary.append(detail.get_text())\n",
    "        \n",
    "        Abstract.append(Abstract_detail)\n",
    "        Summaries.append(Summary)\n",
    "        \n",
    "    button.click()    \n",
    "    time.sleep(2) \n",
    "    i=i+1\n",
    "    return True\n",
    "\n"
   ]
  },
  {
   "cell_type": "code",
   "execution_count": 6,
   "id": "dae4f04c-d777-4dca-ac65-703c15b221d5",
   "metadata": {},
   "outputs": [
    {
     "name": "stdout",
     "output_type": "stream",
     "text": [
      "page exists 1\n",
      "September 2, 2024 \n",
      " Press Release: Tolebrutinib meets primary endpoint in HERCULES phase 3 study, the first and only to show reduction in disability accumulation in non-relapsing secondary progressive multiple sclerosis \n",
      " https://www.sanofi.com/en/media-room/press-releases/2024/2024-09-02-05-00-00-2938875\n",
      "August 26, 2024 \n",
      " Media Update: ERS: New data highlight Sanofi’s scientific innovation and leadership in immune-mediated respiratory diseases \n",
      " https://www.sanofi.com/en/media-room/press-releases/2024/2024-08-26-05-00-00-2935223\n",
      "August 8, 2024 \n",
      " Press Release: Sarclisa induction treatment demonstrated significantly improved progression-free survival in patients with newly diagnosed multiple myeloma eligible for transplant \n",
      " https://www.sanofi.com/en/media-room/press-releases/2024/2024-08-08-05-00-00-2926566\n",
      "July 25, 2024 \n",
      " Press Release: Online availability of Sanofi’s half-year financial report for 2024 \n",
      " https://www.sanofi.com/en/media-room/press-releases/2024/2024-07-25-14-57-00-2918977\n",
      "July 25, 2024 \n",
      " Press Release: Sanofi Q2 - strong performance with 10% sales growth; 2024 guidance upgraded \n",
      " https://www.sanofi.com/en/media-room/press-releases/2024/2024-07-25-05-30-00-2918503\n",
      "July 17, 2024 \n",
      " Press Release: NEJM publishes ALTUVIIIO XTEND-Kids phase 3 data supporting its potential to transform the treatment landscape for children with severe hemophilia A \n",
      " https://www.sanofi.com/en/media-room/press-releases/2024/2024-07-17-21-27-40-2914957\n",
      "July 3, 2024 \n",
      " Press Release: Dupixent approved in the EU as the first-ever targeted therapy for patients with COPD \n",
      " https://www.sanofi.com/en/media-room/press-releases/2024/2024-07-03-05-38-39-2907918\n",
      "June 28, 2024 \n",
      " Media Update: Frexalimab new phase 2 data showed reduction of key biomarker of nerve cell damage in relapsing MS \n",
      " https://www.sanofi.com/en/media-room/press-releases/2024/2024-06-28-15-30-00-2906026\n",
      "June 26, 2024 \n",
      " Press Release: Dupixent positive phase 3 data in children one to 11 years of age with eosinophilic esophagitis published in NEJM \n",
      " https://www.sanofi.com/en/media-room/press-releases/2024/2024-06-26-21-30-00-2904847\n",
      "June 25, 2024 \n",
      " Media Update: Riliprubart one-year results from phase 2 study underpin the potential as a first-in-class treatment in chronic inflammatory demyelinating polyneuropathy \n",
      " https://www.sanofi.com/en/media-room/press-releases/2024/2024-06-25-20-30-00-2904145\n",
      "June 25, 2024 \n",
      " Press Release: Availability of the Q2 2024 Aide-mémoire \n",
      " https://www.sanofi.com/en/media-room/press-releases/2024/2024-06-25-17-32-57-2904090\n",
      "June 21, 2024 \n",
      " Press Release: Audrey Duval Derveloy appointed Global Head of Corporate Affairs, member of Sanofi’s Executive Committee \n",
      " https://www.sanofi.com/en/media-room/press-releases/2024/2024-06-21-07-30-00-2902125\n",
      "June 21, 2024 \n",
      " Press Release: ISTH: Sanofi advances leadership in hemophilia with new data for ALTUVIIIO and fitusiran \n",
      " https://www.sanofi.com/en/media-room/press-releases/2024/2024-06-21-05-00-00-2902104\n",
      "June 20, 2024 \n",
      " Press Release: Sanofi and Biovac spearhead polio vaccine manufacturing capabilities in Africa \n",
      " https://www.sanofi.com/en/media-room/press-releases/2024/2024-06-20-12-00-00-2901636\n",
      "June 3, 2024 \n",
      " Press Release: ASCO: Sarclisa is first anti-CD38 to significantly improve progression-free survival in combination with VRd for newly diagnosed transplant-ineligible multiple myeloma in phase 3 \n",
      " https://www.sanofi.com/en/media-room/press-releases/2024/2024-06-03-20-15-00-2892607\n",
      "June 1, 2024 \n",
      " Media Update: Sanofi update on Zantac litigation \n",
      " https://www.sanofi.com/en/media-room/press-releases/2024/2024-06-01-02-39-22-2891788\n",
      "May 31, 2024 \n",
      " Press Release: Sanofi launches 2024 global Employee Stock Purchase Plan \n",
      " https://www.sanofi.com/en/media-room/press-releases/2024/2024-05-31-10-00-00-2891408\n",
      "May 31, 2024 \n",
      " Press Release: Dupixent recommended for EU approval by the CHMP to treat patients with COPD \n",
      " https://www.sanofi.com/en/media-room/press-releases/2024/2024-05-31-05-05-00-2891263\n",
      "May 31, 2024 \n",
      " Press Release: Update on FDA priority review of Dupixent for the treatment of COPD patients with type 2 inflammation \n",
      " https://www.sanofi.com/en/media-room/press-releases/2024/2024-05-31-05-00-00-2891259\n",
      "May 30, 2024 \n",
      " Press Release: Sanofi completes acquisition of Inhibrx, Inc. \n",
      " https://www.sanofi.com/en/media-room/press-releases/2024/2024-05-30-13-01-38-2890833\n",
      "page not found\n"
     ]
    }
   ],
   "source": [
    "## xpath of next button on first page copied from inspecting source - can change depending on when this code is tried \n",
    "## and if meanwhile something has changed on the website\n",
    "button = \"/html/body/div/main/div[3]/div[1]/div[1]/div/div[22]/nav/ul/li[10]/button\"\n",
    "\n",
    "# defining counter to go on different pages of press-releases\n",
    "i=1\n",
    "\n",
    "# using recursive function to go to the required page and until the last page to extract all information\n",
    "# remember i = page number so can change this piece of code depending on till when you want to extract the information\n",
    "while find_page(button) and i < 2:\n",
    "    find_page(button)\n",
    "else: \n",
    "    # going to the last page here as on last page, next page button doesn't work so it complains, also update xpath if it changes for \n",
    "    #the last page button\n",
    "    last_page = \"/html/body/div/main/div[3]/div[1]/div[1]/div/div[17]/nav/ul/li[9]/button\"\n",
    "    find_page(last_page)\n"
   ]
  },
  {
   "cell_type": "code",
   "execution_count": 7,
   "id": "458a1f48-7e5c-4ff4-94ab-d3765e6c0f80",
   "metadata": {},
   "outputs": [],
   "source": [
    "# defining the data frame to be exported to excel file with all the information\n",
    "df = pd.DataFrame(list(zip(Date, Title, URL, PDF_URL, Abstract, Summaries)), columns=['Date','Title', 'URL','PDF_URL','Abstract', 'Summary'])"
   ]
  },
  {
   "cell_type": "code",
   "execution_count": 8,
   "id": "f07fa904-90a1-4489-b195-e5724ae3d035",
   "metadata": {},
   "outputs": [
    {
     "name": "stdout",
     "output_type": "stream",
     "text": [
      "DataFrame is written to Excel File successfully.\n"
     ]
    }
   ],
   "source": [
    "# write DataFrame to excel\n",
    "datatoexcel = pd.ExcelWriter('Sanofi.xlsx')\n",
    "df.to_excel(datatoexcel) \n",
    "# save the excel\n",
    "datatoexcel.close()\n",
    "print('DataFrame is written to Excel File successfully.')"
   ]
  },
  {
   "cell_type": "code",
   "execution_count": null,
   "id": "32f01d26-92a5-46a3-ac1a-f1c8ea157624",
   "metadata": {},
   "outputs": [],
   "source": []
  }
 ],
 "metadata": {
  "kernelspec": {
   "display_name": "Python 3 (ipykernel)",
   "language": "python",
   "name": "python3"
  },
  "language_info": {
   "codemirror_mode": {
    "name": "ipython",
    "version": 3
   },
   "file_extension": ".py",
   "mimetype": "text/x-python",
   "name": "python",
   "nbconvert_exporter": "python",
   "pygments_lexer": "ipython3",
   "version": "3.11.7"
  }
 },
 "nbformat": 4,
 "nbformat_minor": 5
}
